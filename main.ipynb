{
 "cells": [
  {
   "cell_type": "code",
   "execution_count": 1,
   "id": "5fdb6288",
   "metadata": {},
   "outputs": [],
   "source": [
    "import pandas as pd\n",
    "import numpy as np\n",
    "import os\n",
    "import matplotlib.pyplot as plt\n",
    "import seaborn as sns"
   ]
  },
  {
   "cell_type": "markdown",
   "id": "b618a392",
   "metadata": {},
   "source": [
    "# Import Training Data"
   ]
  },
  {
   "cell_type": "markdown",
   "id": "cbcddd8f",
   "metadata": {},
   "source": [
    "## Data from the original contest"
   ]
  },
  {
   "cell_type": "code",
   "execution_count": 2,
   "id": "83d663c9",
   "metadata": {},
   "outputs": [
    {
     "data": {
      "text/plain": [
       "Index(['id', 'url_legal', 'license', 'excerpt', 'target', 'standard_error'], dtype='object')"
      ]
     },
     "execution_count": 2,
     "metadata": {},
     "output_type": "execute_result"
    }
   ],
   "source": [
    "df_train = pd.read_csv(\"train.csv\")\n",
    "df_train.columns"
   ]
  },
  {
   "cell_type": "markdown",
   "id": "1d43abc1",
   "metadata": {},
   "source": [
    "Save training results seperately"
   ]
  },
  {
   "cell_type": "code",
   "execution_count": 3,
   "id": "df6c141b",
   "metadata": {},
   "outputs": [
    {
     "data": {
      "text/html": [
       "<div>\n",
       "<style scoped>\n",
       "    .dataframe tbody tr th:only-of-type {\n",
       "        vertical-align: middle;\n",
       "    }\n",
       "\n",
       "    .dataframe tbody tr th {\n",
       "        vertical-align: top;\n",
       "    }\n",
       "\n",
       "    .dataframe thead th {\n",
       "        text-align: right;\n",
       "    }\n",
       "</style>\n",
       "<table border=\"1\" class=\"dataframe\">\n",
       "  <thead>\n",
       "    <tr style=\"text-align: right;\">\n",
       "      <th></th>\n",
       "      <th>target</th>\n",
       "      <th>standard_error</th>\n",
       "    </tr>\n",
       "  </thead>\n",
       "  <tbody>\n",
       "    <tr>\n",
       "      <th>0</th>\n",
       "      <td>-0.340259</td>\n",
       "      <td>0.464009</td>\n",
       "    </tr>\n",
       "    <tr>\n",
       "      <th>1</th>\n",
       "      <td>-0.315372</td>\n",
       "      <td>0.480805</td>\n",
       "    </tr>\n",
       "    <tr>\n",
       "      <th>2</th>\n",
       "      <td>-0.580118</td>\n",
       "      <td>0.476676</td>\n",
       "    </tr>\n",
       "    <tr>\n",
       "      <th>3</th>\n",
       "      <td>-1.054013</td>\n",
       "      <td>0.450007</td>\n",
       "    </tr>\n",
       "    <tr>\n",
       "      <th>4</th>\n",
       "      <td>0.247197</td>\n",
       "      <td>0.510845</td>\n",
       "    </tr>\n",
       "  </tbody>\n",
       "</table>\n",
       "</div>"
      ],
      "text/plain": [
       "     target  standard_error\n",
       "0 -0.340259        0.464009\n",
       "1 -0.315372        0.480805\n",
       "2 -0.580118        0.476676\n",
       "3 -1.054013        0.450007\n",
       "4  0.247197        0.510845"
      ]
     },
     "execution_count": 3,
     "metadata": {},
     "output_type": "execute_result"
    }
   ],
   "source": [
    "df_train_result = df_train[['target', 'standard_error']].copy()\n",
    "df_train_result.head()"
   ]
  },
  {
   "cell_type": "markdown",
   "id": "8ba7b9db",
   "metadata": {},
   "source": [
    "Drop url, licese, and the training results"
   ]
  },
  {
   "cell_type": "code",
   "execution_count": 4,
   "id": "78c59b0c",
   "metadata": {},
   "outputs": [
    {
     "data": {
      "text/html": [
       "<div>\n",
       "<style scoped>\n",
       "    .dataframe tbody tr th:only-of-type {\n",
       "        vertical-align: middle;\n",
       "    }\n",
       "\n",
       "    .dataframe tbody tr th {\n",
       "        vertical-align: top;\n",
       "    }\n",
       "\n",
       "    .dataframe thead th {\n",
       "        text-align: right;\n",
       "    }\n",
       "</style>\n",
       "<table border=\"1\" class=\"dataframe\">\n",
       "  <thead>\n",
       "    <tr style=\"text-align: right;\">\n",
       "      <th></th>\n",
       "      <th>id</th>\n",
       "      <th>excerpt</th>\n",
       "    </tr>\n",
       "  </thead>\n",
       "  <tbody>\n",
       "    <tr>\n",
       "      <th>0</th>\n",
       "      <td>c12129c31</td>\n",
       "      <td>When the young people returned to the ballroom...</td>\n",
       "    </tr>\n",
       "    <tr>\n",
       "      <th>1</th>\n",
       "      <td>85aa80a4c</td>\n",
       "      <td>All through dinner time, Mrs. Fayre was somewh...</td>\n",
       "    </tr>\n",
       "    <tr>\n",
       "      <th>2</th>\n",
       "      <td>b69ac6792</td>\n",
       "      <td>As Roger had predicted, the snow departed as q...</td>\n",
       "    </tr>\n",
       "    <tr>\n",
       "      <th>3</th>\n",
       "      <td>dd1000b26</td>\n",
       "      <td>And outside before the palace a great garden w...</td>\n",
       "    </tr>\n",
       "    <tr>\n",
       "      <th>4</th>\n",
       "      <td>37c1b32fb</td>\n",
       "      <td>Once upon a time there were Three Bears who li...</td>\n",
       "    </tr>\n",
       "  </tbody>\n",
       "</table>\n",
       "</div>"
      ],
      "text/plain": [
       "          id                                            excerpt\n",
       "0  c12129c31  When the young people returned to the ballroom...\n",
       "1  85aa80a4c  All through dinner time, Mrs. Fayre was somewh...\n",
       "2  b69ac6792  As Roger had predicted, the snow departed as q...\n",
       "3  dd1000b26  And outside before the palace a great garden w...\n",
       "4  37c1b32fb  Once upon a time there were Three Bears who li..."
      ]
     },
     "execution_count": 4,
     "metadata": {},
     "output_type": "execute_result"
    }
   ],
   "source": [
    "# URL and license are mostly empty we can intuitively know they won't have any siginificance\n",
    "# We want to focus on the texts only\n",
    "\n",
    "df_train = df_train.drop(['url_legal', 'license', 'target', 'standard_error'], axis=1)\n",
    "df_train.head()"
   ]
  },
  {
   "cell_type": "markdown",
   "id": "48af4085",
   "metadata": {},
   "source": [
    "## Dataset from CLEAR"
   ]
  },
  {
   "cell_type": "code",
   "execution_count": 5,
   "id": "ac168f2e",
   "metadata": {},
   "outputs": [
    {
     "data": {
      "text/plain": [
       "Index(['ID', 'Last Changed', 'Author', 'Title', 'Anthology', 'URL', 'Source',\n",
       "       'Pub Year', 'Category', 'Location', 'License', 'MPAA\\nMax',\n",
       "       'MPAA \\n#Max', 'MPAA\\n#Avg', 'Excerpt', 'Google\\nWC', 'Joon\\nWC v1',\n",
       "       'British WC', 'British Words', 'Sentence\\nCount v1',\n",
       "       'Sentence\\nCount v2', 'Paragraphs', 'BT Easiness', 'BT s.e.',\n",
       "       'Flesch-Reading-Ease', 'Flesch-Kincaid-Grade-Level',\n",
       "       'Automated Readability Index', 'SMOG Readability',\n",
       "       'New Dale-Chall Readability Formula', 'CAREC', 'CAREC_M', 'CARES',\n",
       "       'CML2RI', 'firstPlace_pred', 'secondPlace_pred', 'thirdPlace_pred',\n",
       "       'fourthPlace_pred', 'fifthPlace_pred', 'sixthPlace_pred',\n",
       "       'Kaggle split'],\n",
       "      dtype='object')"
      ]
     },
     "execution_count": 5,
     "metadata": {},
     "output_type": "execute_result"
    }
   ],
   "source": [
    "# Read\n",
    "CLEAR_df = pd.read_csv('CLEAR.csv')\n",
    "CLEAR_df.columns"
   ]
  },
  {
   "cell_type": "code",
   "execution_count": 6,
   "id": "1f735d62",
   "metadata": {},
   "outputs": [
    {
     "data": {
      "text/html": [
       "<div>\n",
       "<style scoped>\n",
       "    .dataframe tbody tr th:only-of-type {\n",
       "        vertical-align: middle;\n",
       "    }\n",
       "\n",
       "    .dataframe tbody tr th {\n",
       "        vertical-align: top;\n",
       "    }\n",
       "\n",
       "    .dataframe thead th {\n",
       "        text-align: right;\n",
       "    }\n",
       "</style>\n",
       "<table border=\"1\" class=\"dataframe\">\n",
       "  <thead>\n",
       "    <tr style=\"text-align: right;\">\n",
       "      <th></th>\n",
       "      <th>BT Easiness</th>\n",
       "      <th>BT s.e.</th>\n",
       "    </tr>\n",
       "  </thead>\n",
       "  <tbody>\n",
       "    <tr>\n",
       "      <th>4721</th>\n",
       "      <td>0.310336</td>\n",
       "      <td>0.508939</td>\n",
       "    </tr>\n",
       "    <tr>\n",
       "      <th>4722</th>\n",
       "      <td>-0.215279</td>\n",
       "      <td>0.514128</td>\n",
       "    </tr>\n",
       "    <tr>\n",
       "      <th>4723</th>\n",
       "      <td>0.300779</td>\n",
       "      <td>0.512379</td>\n",
       "    </tr>\n",
       "    <tr>\n",
       "      <th>4724</th>\n",
       "      <td>NaN</td>\n",
       "      <td>NaN</td>\n",
       "    </tr>\n",
       "    <tr>\n",
       "      <th>4725</th>\n",
       "      <td>NaN</td>\n",
       "      <td>NaN</td>\n",
       "    </tr>\n",
       "  </tbody>\n",
       "</table>\n",
       "</div>"
      ],
      "text/plain": [
       "      BT Easiness   BT s.e.\n",
       "4721     0.310336  0.508939\n",
       "4722    -0.215279  0.514128\n",
       "4723     0.300779  0.512379\n",
       "4724          NaN       NaN\n",
       "4725          NaN       NaN"
      ]
     },
     "execution_count": 6,
     "metadata": {},
     "output_type": "execute_result"
    }
   ],
   "source": [
    "# Drop columns\n",
    "CLEAR_df_result = CLEAR_df[['BT Easiness', 'BT s.e.']].copy()\n",
    "CLEAR_df_result.tail()"
   ]
  },
  {
   "cell_type": "markdown",
   "id": "6c3e25ba",
   "metadata": {},
   "source": [
    "Extract the ids and texts"
   ]
  },
  {
   "cell_type": "code",
   "execution_count": 9,
   "id": "4996bf9c",
   "metadata": {},
   "outputs": [
    {
     "data": {
      "text/html": [
       "<div>\n",
       "<style scoped>\n",
       "    .dataframe tbody tr th:only-of-type {\n",
       "        vertical-align: middle;\n",
       "    }\n",
       "\n",
       "    .dataframe tbody tr th {\n",
       "        vertical-align: top;\n",
       "    }\n",
       "\n",
       "    .dataframe thead th {\n",
       "        text-align: right;\n",
       "    }\n",
       "</style>\n",
       "<table border=\"1\" class=\"dataframe\">\n",
       "  <thead>\n",
       "    <tr style=\"text-align: right;\">\n",
       "      <th></th>\n",
       "      <th>id</th>\n",
       "      <th>excerpt</th>\n",
       "    </tr>\n",
       "  </thead>\n",
       "  <tbody>\n",
       "    <tr>\n",
       "      <th>0</th>\n",
       "      <td>400.0</td>\n",
       "      <td>When the young people returned to the ballroom...</td>\n",
       "    </tr>\n",
       "    <tr>\n",
       "      <th>1</th>\n",
       "      <td>401.0</td>\n",
       "      <td>All through dinner time, Mrs. Fayre was somewh...</td>\n",
       "    </tr>\n",
       "    <tr>\n",
       "      <th>2</th>\n",
       "      <td>402.0</td>\n",
       "      <td>As Roger had predicted, the snow departed as q...</td>\n",
       "    </tr>\n",
       "    <tr>\n",
       "      <th>3</th>\n",
       "      <td>403.0</td>\n",
       "      <td>Mr. Grimes was to come up next morning to Sir ...</td>\n",
       "    </tr>\n",
       "    <tr>\n",
       "      <th>4</th>\n",
       "      <td>404.0</td>\n",
       "      <td>And outside before the palace a great garden w...</td>\n",
       "    </tr>\n",
       "  </tbody>\n",
       "</table>\n",
       "</div>"
      ],
      "text/plain": [
       "      id                                            excerpt\n",
       "0  400.0  When the young people returned to the ballroom...\n",
       "1  401.0  All through dinner time, Mrs. Fayre was somewh...\n",
       "2  402.0  As Roger had predicted, the snow departed as q...\n",
       "3  403.0  Mr. Grimes was to come up next morning to Sir ...\n",
       "4  404.0  And outside before the palace a great garden w..."
      ]
     },
     "execution_count": 9,
     "metadata": {},
     "output_type": "execute_result"
    }
   ],
   "source": [
    "CLEAR_df = CLEAR_df.rename(columns={'ID': 'id', 'Excerpt': 'excerpt'})\n",
    "\n",
    "CLEAR_df.head()"
   ]
  },
  {
   "cell_type": "markdown",
   "id": "b847e6e2",
   "metadata": {},
   "source": [
    "# Concactenate datasets"
   ]
  },
  {
   "cell_type": "code",
   "execution_count": 11,
   "id": "cbef8f22",
   "metadata": {},
   "outputs": [
    {
     "data": {
      "text/html": [
       "<div>\n",
       "<style scoped>\n",
       "    .dataframe tbody tr th:only-of-type {\n",
       "        vertical-align: middle;\n",
       "    }\n",
       "\n",
       "    .dataframe tbody tr th {\n",
       "        vertical-align: top;\n",
       "    }\n",
       "\n",
       "    .dataframe thead th {\n",
       "        text-align: right;\n",
       "    }\n",
       "</style>\n",
       "<table border=\"1\" class=\"dataframe\">\n",
       "  <thead>\n",
       "    <tr style=\"text-align: right;\">\n",
       "      <th></th>\n",
       "      <th>id</th>\n",
       "      <th>excerpt</th>\n",
       "    </tr>\n",
       "  </thead>\n",
       "  <tbody>\n",
       "    <tr>\n",
       "      <th>7553</th>\n",
       "      <td>8027.0</td>\n",
       "      <td>The name Monarch means “king”. An adult Monarc...</td>\n",
       "    </tr>\n",
       "    <tr>\n",
       "      <th>7554</th>\n",
       "      <td>8028.0</td>\n",
       "      <td>Walking Sticks are long, thin, and slow-moving...</td>\n",
       "    </tr>\n",
       "    <tr>\n",
       "      <th>7555</th>\n",
       "      <td>8029.0</td>\n",
       "      <td>A Black Widow is a shiny black spider. It has ...</td>\n",
       "    </tr>\n",
       "    <tr>\n",
       "      <th>7556</th>\n",
       "      <td>8030.0</td>\n",
       "      <td>Solids are shapes that you can actually touch....</td>\n",
       "    </tr>\n",
       "    <tr>\n",
       "      <th>7557</th>\n",
       "      <td>8031.0</td>\n",
       "      <td>Animals are made of many cells. They eat thing...</td>\n",
       "    </tr>\n",
       "  </tbody>\n",
       "</table>\n",
       "</div>"
      ],
      "text/plain": [
       "          id                                            excerpt\n",
       "7553  8027.0  The name Monarch means “king”. An adult Monarc...\n",
       "7554  8028.0  Walking Sticks are long, thin, and slow-moving...\n",
       "7555  8029.0  A Black Widow is a shiny black spider. It has ...\n",
       "7556  8030.0  Solids are shapes that you can actually touch....\n",
       "7557  8031.0  Animals are made of many cells. They eat thing..."
      ]
     },
     "execution_count": 11,
     "metadata": {},
     "output_type": "execute_result"
    }
   ],
   "source": [
    "concat_df_list = [df_train, CLEAR_df]\n",
    "\n",
    "# Concatenate along rows and reset index\n",
    "consolidated_df = pd.concat(concat_df_list, axis=0, ignore_index=True)\n",
    "\n",
    "# Convert the 'id' column to string\n",
    "consolidated_df['id'] = consolidated_df['id'].astype(str)\n",
    "\n",
    "# Drop none types\n",
    "consolidated_df = consolidated_df.dropna()\n",
    "# Drop duplicates\n",
    "consolidated_df = consolidated_df.drop_duplicates()\n",
    "\n",
    "# View the last few rows\n",
    "consolidated_df.tail()"
   ]
  },
  {
   "cell_type": "markdown",
   "id": "1e81d5c6",
   "metadata": {},
   "source": [
    "General analysis of the data"
   ]
  },
  {
   "cell_type": "code",
   "execution_count": 14,
   "id": "a8be8476",
   "metadata": {},
   "outputs": [
    {
     "name": "stdout",
     "output_type": "stream",
     "text": [
      "--- Distribution of the Total Data Text Length ---\n",
      "\n",
      "count    7558.000000\n",
      "mean      171.840963\n",
      "std        16.992603\n",
      "min       125.000000\n",
      "25%       158.000000\n",
      "50%       173.000000\n",
      "75%       186.000000\n",
      "max       205.000000\n",
      "Name: excerpt, dtype: float64\n"
     ]
    }
   ],
   "source": [
    "text_length = consolidated_df['excerpt'].apply(lambda x: len(x.split(' ')))\n",
    "print(f'--- Distribution of the Total Data Text Length ---\\n')\n",
    "print(text_length.describe())"
   ]
  },
  {
   "cell_type": "markdown",
   "id": "4d3a5a03",
   "metadata": {},
   "source": [
    "Plot of the distribution"
   ]
  },
  {
   "cell_type": "code",
   "execution_count": 15,
   "id": "9d31a3a9",
   "metadata": {},
   "outputs": [
    {
     "data": {
      "image/png": "[encoded data removed]",
      "text/plain": [
       "<Figure size 1000x600 with 1 Axes>"
      ]
     },
     "metadata": {},
     "output_type": "display_data"
    }
   ],
   "source": [
    "plt.figure(figsize=(10, 6))\n",
    "plt.hist(text_length, bins=30, color='skyblue', edgecolor='black')\n",
    "plt.title('Distribution of Text Lengths of the training dataset in Excerpts')\n",
    "plt.xlabel('Text Length (Number of Words)')\n",
    "plt.ylabel('Frequency')\n",
    "plt.grid(True, linestyle='--', alpha=0.5)\n",
    "plt.show()"
   ]
  },
  {
   "cell_type": "markdown",
   "id": "723964c2",
   "metadata": {},
   "source": [
    "# Import Testing Data"
   ]
  },
  {
   "cell_type": "code",
   "execution_count": null,
   "id": "f29ed384",
   "metadata": {},
   "outputs": [],
   "source": [
    "df_test = pd.read_csv(\"test.csv\")\n",
    "df_test.columns"
   ]
  },
  {
   "cell_type": "markdown",
   "id": "6717aec6",
   "metadata": {},
   "source": [
    "Drop url and license columns"
   ]
  },
  {
   "cell_type": "code",
   "execution_count": null,
   "id": "cf845185",
   "metadata": {},
   "outputs": [],
   "source": [
    "# Same as for the training dataset drop the insignificant columns\n",
    "\n",
    "df_test = df_test.drop(['url_legal', 'license'], axis = 1)\n",
    "df_test.head()"
   ]
  },
  {
   "cell_type": "markdown",
   "id": "78ade2a4",
   "metadata": {},
   "source": [
    "Analysis and plot of the data"
   ]
  },
  {
   "cell_type": "code",
   "execution_count": null,
   "id": "d5ac9961",
   "metadata": {},
   "outputs": [],
   "source": [
    "text_length_test = df_test['excerpt'].apply(lambda x: len(x.split(' ')))\n",
    "print(f'--- Distribution of the Total Data Text Length ---\\n')\n",
    "print(text_length_test.describe())"
   ]
  },
  {
   "cell_type": "code",
   "execution_count": null,
   "id": "3db9d5b9",
   "metadata": {},
   "outputs": [],
   "source": [
    "plt.figure(figsize=(10, 6))\n",
    "plt.hist(text_length_test, bins=30, color='skyblue', edgecolor='black')\n",
    "plt.title('Distribution of Text Lengths of the testing dataset in Excerpts')\n",
    "plt.xlabel('Text Length (Number of Words)')\n",
    "plt.ylabel('Frequency')\n",
    "plt.grid(True, linestyle='--', alpha=0.5)\n",
    "plt.show()"
   ]
  },
  {
   "cell_type": "markdown",
   "id": "ef685eb3",
   "metadata": {},
   "source": [
    "# Random Forest Trial"
   ]
  },
  {
   "cell_type": "code",
   "execution_count": null,
   "id": "f258bbbf",
   "metadata": {},
   "outputs": [],
   "source": [
    "from sklearn.ensemble import RandomForestRegressor\n",
    "from sklearn.model_selection import train_test_split\n",
    "from sklearn.metrics import mean_squared_error\n",
    "\n",
    "# Assume 'target' is the column we're trying to predict\n",
    "y = df_train_result['target']\n",
    "X = df_train\n",
    "\n",
    "# Split into train and test sets for evaluation\n",
    "X_train, X_test, y_train, y_test = train_test_split(X, y, test_size=0.2, random_state=42)\n",
    "\n",
    "# Train the Random Forest model\n",
    "rf_model = RandomForestRegressor(random_state=42)\n",
    "rf_model.fit(X_train, y_train)\n",
    "\n",
    "# Predict and calculate RMSE\n",
    "y_pred = rf_model.predict(X_test)\n",
    "rmse = mean_squared_error(y_test, y_pred, squared=False)\n",
    "rmse"
   ]
  }
 ],
 "metadata": {
  "kernelspec": {
   "display_name": "Python 3",
   "language": "python",
   "name": "python3"
  },
  "language_info": {
   "codemirror_mode": {
    "name": "ipython",
    "version": 3
   },
   "file_extension": ".py",
   "mimetype": "text/x-python",
   "name": "python",
   "nbconvert_exporter": "python",
   "pygments_lexer": "ipython3",
   "version": "3.11.9"
  }
 },
 "nbformat": 4,
 "nbformat_minor": 5
}
